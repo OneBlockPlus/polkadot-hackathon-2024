{
 "cells": [
  {
   "cell_type": "markdown",
   "source": [
    "# Uniswap V2\n",
    "For this strategy, we will provide the liquidity just as in Uniswap v2. We will provide liquidity in the interval [minTick, maxTick]."
   ],
   "metadata": {
    "collapsed": false
   }
  },
  {
   "cell_type": "markdown",
   "source": [
    "Import code dependencies"
   ],
   "metadata": {
    "collapsed": false
   }
  },
  {
   "cell_type": "code",
   "source": [
    "from datetime import date, datetime\n",
    "import pandas as pd\n",
    "\n",
    "from demeter import TokenInfo, Actuator, Strategy, RowData, ChainType, MarketInfo, AtTimeTrigger\n",
    "from demeter.result import performance_metrics\n",
    "from demeter.uniswap import UniV3Pool, UniLpMarket"
   ],
   "metadata": {
    "collapsed": false,
    "ExecuteTime": {
     "end_time": "2024-07-22T08:21:34.753866Z",
     "start_time": "2024-07-22T08:21:34.749055Z"
    }
   },
   "outputs": [],
   "execution_count": 13
  },
  {
   "cell_type": "markdown",
   "source": [
    "Set pandas output format"
   ],
   "metadata": {
    "collapsed": false
   }
  },
  {
   "cell_type": "code",
   "source": [
    "pd.options.display.max_columns = None\n",
    "pd.set_option(\"display.width\", 5000)"
   ],
   "metadata": {
    "collapsed": false,
    "ExecuteTime": {
     "end_time": "2024-07-22T08:21:34.791686Z",
     "start_time": "2024-07-22T08:21:34.786539Z"
    }
   },
   "outputs": [],
   "execution_count": 14
  },
  {
   "cell_type": "markdown",
   "source": [
    "Custom Uniswap V2 strategy with add liquidity from tick -887272(minTick) to 887272(maxTick)"
   ],
   "metadata": {
    "collapsed": false
   }
  },
  {
   "cell_type": "code",
   "source": [
    "class UniswapV2Strategy(Strategy):\n",
    "    def initialize(self):\n",
    "        \"\"\"\n",
    "        Initialize function will be called right before a backtest start.\n",
    "        You can do various things here, e.g. register a trigger, or add a simple moving average line.\n",
    "        \"\"\"\n",
    "        new_trigger = AtTimeTrigger(  # define a new trigger\n",
    "            time=datetime(2023, 8, 15, 12, 0, 0), do=self.work  # we will make the action happen at 12:00 20/8/22\n",
    "        )  # This is a callback function, defines what to do at this time.\n",
    "        self.triggers.append(new_trigger)  # Register our trigger\n",
    "\n",
    "    def work(self, row_data: RowData):\n",
    "        \"\"\"\n",
    "        When time is up, work function will be called.\n",
    "        \"\"\"\n",
    "        lp_market: UniLpMarket = self.markets[market_key]  # pick our market.\n",
    "        lp_market.add_liquidity_by_tick(-887272, 887272)  # add liquidity\n",
    "        pass"
   ],
   "metadata": {
    "collapsed": false,
    "ExecuteTime": {
     "end_time": "2024-07-22T08:21:34.799595Z",
     "start_time": "2024-07-22T08:21:34.793700Z"
    }
   },
   "outputs": [],
   "execution_count": 15
  },
  {
   "cell_type": "markdown",
   "source": [
    "Main logic to run Actuator, init two token and market with key \"market1\""
   ],
   "metadata": {
    "collapsed": false
   }
  },
  {
   "cell_type": "code",
   "source": [
    "# Declare a token, and it's name will be used as unit of amounts.\n",
    "usdc = TokenInfo(name=\"usdc\", decimal=6)  # declare token usdc\n",
    "eth = TokenInfo(name=\"eth\", decimal=18)  # declare token eth\n",
    "# Declare an Uniswap V3 pool. We will set the parameters according to the real pool on chain.\n",
    "pool = UniV3Pool(token0=usdc, token1=eth, fee=0.05, quote_token=usdc)\n",
    "\n",
    "# Declare a market key, which will be used to find the corresponding market in broker\n",
    "market_key = MarketInfo(\"market1\")\n",
    "# Declare the market,\n",
    "market = UniLpMarket(market_key, pool)  # uni_market:UniLpMarket, positions: 0, total liquidity: 0\n",
    "# load data for market. those data is prepared by download tool\n",
    "market.data_path = \"../data\"  # set data path\n",
    "market.load_data(\n",
    "    chain=ChainType.polygon.name,  # load data\n",
    "    contract_addr=\"0x45dda9cb7c25131df268515131f647d726f50608\",\n",
    "    start_date=date(2023, 8, 15),\n",
    "    end_date=date(2023, 8, 15),\n",
    ")\n",
    "\n",
    "# Declare the Actuator, which controls the whole process\n",
    "actuator = Actuator()  # declare actuator, Demeter Actuator (broker:assets: ; markets: )\n",
    "# add market to broker\n",
    "actuator.broker.add_market(market)\n",
    "# Initial some fund to broker.\n",
    "actuator.broker.set_balance(usdc, 10000)\n",
    "actuator.broker.set_balance(eth, 10)\n",
    "# Set strategy to actuator\n",
    "actuator.strategy = UniswapV2Strategy()  # set strategy to actuator\n",
    "# Set price. Those price will be used in all markets.\n",
    "# Usually, you will have to find the price list from outer source.\n",
    "# Luckily, uniswap pool data contains price information. So UniLpMarket provides a function to retrieve price list.\n",
    "actuator.set_price(market.get_price_from_data())\n",
    "# run test, If you use default parameter, final fund status will be printed in console.\n",
    "\n",
    "# actuator.run()"
   ],
   "metadata": {
    "collapsed": false,
    "ExecuteTime": {
     "end_time": "2024-07-22T08:21:34.901651Z",
     "start_time": "2024-07-22T08:21:34.804605Z"
    }
   },
   "outputs": [
    {
     "name": "stderr",
     "output_type": "stream",
     "text": [
      "2024-07-22 16:21:34,809 - INFO - start load files from 2023-08-15 to 2023-08-15...\n",
      "2024-07-22 16:21:34,824 - INFO - load file complete, preparing...\n",
      "2024-07-22 16:21:34,891 - INFO - data has been prepared\n"
     ]
    }
   ],
   "execution_count": 16
  },
  {
   "cell_type": "markdown",
   "source": [
    "Run actuator with evaluators and save result to files"
   ],
   "metadata": {
    "collapsed": false
   }
  },
  {
   "cell_type": "code",
   "source": [
    "actuator.run()\n",
    "print({k: round(v, 5) for k, v in performance_metrics(\n",
    "    actuator.account_status_df[\"net_value\"], benchmark=actuator.account_status_df[\"price\"][\"ETH\"]\n",
    ").items()})\n",
    "\n",
    "actuator.save_result(\n",
    "    path=\"./result\",  # save path\n",
    "    account=True,  # save account status list as a csv file\n",
    "    actions=True,  # save actions as a json file and a pickle file\n",
    ")"
   ],
   "metadata": {
    "collapsed": false,
    "ExecuteTime": {
     "end_time": "2024-07-22T08:21:35.995764Z",
     "start_time": "2024-07-22T08:21:34.903662Z"
    }
   },
   "outputs": [
    {
     "name": "stderr",
     "output_type": "stream",
     "text": [
      "2024-07-22 16:21:34,910 - INFO - init strategy...\n",
      "2024-07-22 16:21:34,915 - INFO - start main loop...\n",
      "100%|███████████████████████████████████████████████████████████████████████████████████████████████████████████| 1440/1440 [00:00<00:00, 1566.44it/s]\n",
      "2024-07-22 16:21:35,841 - INFO - main loop finished\n",
      "2024-07-22 16:21:35,900 - INFO - Print actuator summary\n",
      "2024-07-22 16:21:35,953 - INFO - Backtesting finished, execute time 1.0433599948883057s\n",
      "2024-07-22 16:21:35,989 - INFO - files have saved to ./result\\backtest-20240722-162135.account.csv,./result\\backtest-20240722-162135.action.json,./result\\backtest-20240722-162135.action.pkl\n"
     ]
    },
    {
     "name": "stdout",
     "output_type": "stream",
     "text": [
      "\u001B[7;31mFinal account status                              \u001B[0m\n",
      "\u001B[7;35mToken balance in broker       \u001B[0m\n",
      "\u001B[34mUSDC      \u001B[0m:0                        \u001B[34mETH       \u001B[0m:4.5592684                \n",
      "\u001B[7;35mPosition value in markets     \u001B[0m\n",
      "\u001B[4;33mmarket1(UniLpMarket)\u001B[0m\n",
      "\u001B[34mtoken0    \u001B[0m:USDC                     \u001B[34mtoken1    \u001B[0m:ETH                      \u001B[34mfee(%)    \u001B[0m:0.0500                   \u001B[34mquote token\u001B[0m:USDC                     \n",
      "\u001B[34mpositions \u001B[0m\n",
      "   lower_tick  upper_tick     pending0        pending1        liquidity\n",
      "0     -887272      887272  0.096610981  0.000065859322  233253759509000\n",
      "\n",
      "\u001B[7;31mAccount balance history                           \u001B[0m\n",
      "l1                  net_value tokens             market1                                                                                          price     \n",
      "l2                              USDC       ETH net_value base_uncollected quote_uncollected base_in_position quote_in_position position_count       ETH USDC\n",
      "2023-08-15 00:00:00 28436.944  10000        10         0                0                 0                0                 0              0 1843.6945    1\n",
      "2023-08-15 00:01:00 28436.944  10000        10         0                0                 0                0                 0              0 1843.6945    1\n",
      "2023-08-15 00:02:00 28436.944  10000        10         0                0                 0                0                 0              0 1843.6945    1\n",
      "2023-08-15 00:03:00 28436.944  10000        10         0                0                 0                0                 0              0 1843.6945    1\n",
      "2023-08-15 00:04:00 28436.944  10000        10         0                0                 0                0                 0              0 1843.6945    1\n",
      "...                       ...    ...       ...       ...              ...               ...              ...               ...            ...       ...  ...\n",
      "2023-08-15 23:55:00 28273.724      0 4.5592685 19942.303    6.5605651e-05       0.096609995         5.456532          9971.043              1 1827.3591    1\n",
      "2023-08-15 23:56:00 28273.724      0 4.5592685 19942.303     6.561714e-05       0.096610658         5.456532          9971.043              1 1827.3591    1\n",
      "2023-08-15 23:57:00 28273.724      0 4.5592685 19942.303    6.5623732e-05       0.096610978         5.456532          9971.043              1 1827.3591    1\n",
      "2023-08-15 23:58:00 28270.065      0 4.5592685  19940.31     6.585932e-05       0.096610978        5.4570775         9970.0469              1 1826.9938    1\n",
      "2023-08-15 23:59:00 28270.065      0 4.5592685  19940.31     6.585932e-05       0.096610978        5.4570775         9970.0469              1 1826.9938    1\n",
      "\n",
      "[1440 rows x 11 columns]\n",
      "{Return: Decimal('-166.87959'), Rate of Return: Decimal('-0.00587'), Annualized Return: Decimal('-0.88332'), Max Draw Down: Decimal('0.00992'), Sharpe Ratio: Decimal('-21.23077'), Volatility: Decimal('1141.67118'), alpha: Decimal('-0.00000'), beta: Decimal('0.64763')}\n"
     ]
    },
    {
     "data": {
      "text/plain": [
       "['./result\\\\backtest-20240722-162135.account.csv',\n",
       " './result\\\\backtest-20240722-162135.action.json',\n",
       " './result\\\\backtest-20240722-162135.action.pkl']"
      ]
     },
     "execution_count": 17,
     "metadata": {},
     "output_type": "execute_result"
    }
   ],
   "execution_count": 17
  }
 ],
 "metadata": {
  "kernelspec": {
   "display_name": "Python 3",
   "language": "python",
   "name": "python3"
  },
  "language_info": {
   "codemirror_mode": {
    "name": "ipython",
    "version": 2
   },
   "file_extension": ".py",
   "mimetype": "text/x-python",
   "name": "python",
   "nbconvert_exporter": "python",
   "pygments_lexer": "ipython2",
   "version": "2.7.6"
  }
 },
 "nbformat": 4,
 "nbformat_minor": 0
}
