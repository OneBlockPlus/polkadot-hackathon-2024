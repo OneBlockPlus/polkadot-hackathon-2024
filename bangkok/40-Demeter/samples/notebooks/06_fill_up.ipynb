{
 "cells": [
  {
   "cell_type": "markdown",
   "source": [
    "# Fill up\n",
    "This is another strategy trying to solve the problem of 4.4. The first interval is [pc − a, pc + a]. The second interval is [pc, pc + a] or [pc − a, pc], depending on which asset is leftover."
   ],
   "metadata": {
    "collapsed": false
   }
  },
  {
   "cell_type": "markdown",
   "source": [
    "Import code dependencies"
   ],
   "metadata": {
    "collapsed": false
   }
  },
  {
   "cell_type": "code",
   "source": [
    "from typing import List\n",
    "\n",
    "import pandas as pd\n",
    "from matplotlib.pylab import plt\n",
    "import matplotlib.dates as mdates\n",
    "\n",
    "from demeter import MarketInfo\n",
    "from demeter.broker import AccountStatus\n",
    "from demeter.result import performance_metrics"
   ],
   "metadata": {
    "collapsed": false,
    "jupyter": {
     "is_executing": true
    }
   },
   "outputs": [],
   "execution_count": null
  },
  {
   "cell_type": "markdown",
   "source": [
    "Set matplotlib to show formatted account status"
   ],
   "metadata": {
    "collapsed": false
   }
  },
  {
   "cell_type": "code",
   "source": [
    "def plotter(account_status_list: List[AccountStatus]):\n",
    "    net_value_ts = [status.net_value for status in account_status_list]\n",
    "    time_ts = [status.timestamp for status in account_status_list]\n",
    "    plt.plot(time_ts, net_value_ts)\n",
    "    plt.show()"
   ],
   "metadata": {
    "collapsed": false,
    "ExecuteTime": {
     "end_time": "2024-07-22T08:24:15.012091Z",
     "start_time": "2024-07-22T08:24:15.007613Z"
    }
   },
   "outputs": [],
   "execution_count": 2
  },
  {
   "cell_type": "markdown",
   "source": [
    "Make plot about price and account value / position net value"
   ],
   "metadata": {
    "collapsed": false
   }
  },
  {
   "cell_type": "code",
   "source": [
    "def plot_position_return_decomposition(account_status: pd.DataFrame, price: pd.Series, market: MarketInfo):\n",
    "    fig, value_ax = plt.subplots()\n",
    "    day = mdates.DayLocator(interval=2)\n",
    "\n",
    "    price_ax = value_ax.twinx()\n",
    "    price_ax.xaxis.set_major_locator(day)\n",
    "    price_ax.xaxis.set_major_formatter(mdates.DateFormatter('%m-%d'))\n",
    "    value_ax.set_xlabel('time')\n",
    "    value_ax.set_ylabel('value', color='g')\n",
    "    price_ax.set_ylabel('price', color='b')\n",
    "\n",
    "    net_value_ts = list(account_status.net_value)\n",
    "    time_ts = list(account_status.index)\n",
    "    price_ts = list(price)\n",
    "\n",
    "    value_in_position = account_status[market.name][\"net_value\"]\n",
    "    value_in_account = account_status[\"tokens\"][\"USDC\"] + account_status[\"tokens\"][\"ETH\"] * price\n",
    "\n",
    "    value_ax.plot(time_ts, net_value_ts, 'g-', label=\"net value\")\n",
    "    value_ax.plot(time_ts, value_in_position, 'r-', label=\"value in get_position\")\n",
    "    value_ax.plot(time_ts, value_in_account, 'b-', label=\"value in broker account\")\n",
    "    price_ax.plot(time_ts, price_ts, 'y-', label=\"price\")\n",
    "    fig.legend()\n",
    "    fig.show()"
   ],
   "metadata": {
    "collapsed": false,
    "ExecuteTime": {
     "end_time": "2024-07-22T08:24:15.026551Z",
     "start_time": "2024-07-22T08:24:15.013466Z"
    }
   },
   "outputs": [],
   "execution_count": 3
  },
  {
   "cell_type": "markdown",
   "source": [
    "Add dependence about run Actuator"
   ],
   "metadata": {
    "collapsed": false
   }
  },
  {
   "cell_type": "code",
   "source": [
    "from datetime import date, timedelta\n",
    "from typing import Dict\n",
    "from _decimal import Decimal\n",
    "import pandas as pd\n",
    "\n",
    "from demeter import TokenInfo, Actuator, ChainType, MarketInfo, Strategy, PeriodTrigger, RowData\n",
    "from demeter.uniswap import UniLpMarket, UniV3Pool"
   ],
   "metadata": {
    "collapsed": false,
    "ExecuteTime": {
     "end_time": "2024-07-22T08:24:15.032296Z",
     "start_time": "2024-07-22T08:24:15.028559Z"
    }
   },
   "outputs": [],
   "execution_count": 4
  },
  {
   "cell_type": "markdown",
   "source": [
    "Set pandas output format"
   ],
   "metadata": {
    "collapsed": false
   }
  },
  {
   "cell_type": "code",
   "source": [
    "pd.options.display.max_columns = None\n",
    "pd.set_option(\"display.width\", 5000)"
   ],
   "metadata": {
    "collapsed": false,
    "ExecuteTime": {
     "end_time": "2024-07-22T08:24:15.039255Z",
     "start_time": "2024-07-22T08:24:15.034314Z"
    }
   },
   "outputs": [],
   "execution_count": 5
  },
  {
   "cell_type": "markdown",
   "source": [
    "Custom Full up strategy with code to add liquidity and use up all token at some side of price"
   ],
   "metadata": {
    "collapsed": false
   }
  },
  {
   "cell_type": "code",
   "source": [
    "class FillUpStrategy(Strategy):\n",
    "    def __init__(self, a=10):\n",
    "        super().__init__()\n",
    "        self.a = a\n",
    "\n",
    "    def initialize(self):\n",
    "        lp_market: UniLpMarket = self.broker.markets[market_key]\n",
    "        init_price = lp_market.market_status.data.price\n",
    "\n",
    "        lp_market.even_rebalance(init_price)  # rebalance all reserve token#\n",
    "        lp_market.add_liquidity(init_price - self.a, init_price + self.a)\n",
    "        if self.broker.assets[market.base_token].balance > 0:\n",
    "            lp_market.add_liquidity(init_price - self.a, init_price)\n",
    "        else:\n",
    "            lp_market.add_liquidity(init_price, init_price + self.a)\n",
    "        self.triggers.append(PeriodTrigger(time_delta=timedelta(days=1), do=self.work))\n",
    "\n",
    "    def work(self, row_data: RowData):\n",
    "        lp_market: UniLpMarket = self.broker.markets[market_key]\n",
    "        if len(lp_market.positions) > 0:\n",
    "            lp_market.remove_all_liquidity()\n",
    "            lp_market.even_rebalance(row_data.prices[eth.name])\n",
    "        lp_market.add_liquidity(row_data.prices[eth.name] - self.a, row_data.prices[eth.name] + self.a)\n",
    "        if self.broker.assets[market.base_token].balance > 0:\n",
    "            lp_market.add_liquidity(row_data.prices[eth.name] - self.a, row_data.prices[eth.name])\n",
    "        else:\n",
    "            lp_market.add_liquidity(row_data.prices[eth.name], row_data.prices[eth.name] + self.a)\n",
    "\n"
   ],
   "metadata": {
    "collapsed": false,
    "ExecuteTime": {
     "end_time": "2024-07-22T08:24:15.049951Z",
     "start_time": "2024-07-22T08:24:15.040266Z"
    }
   },
   "outputs": [],
   "execution_count": 6
  },
  {
   "cell_type": "markdown",
   "source": [
    "Main logic to run Actuator, init two token and market with key \"market1\""
   ],
   "metadata": {
    "collapsed": false
   }
  },
  {
   "cell_type": "code",
   "source": [
    "usdc = TokenInfo(name=\"usdc\", decimal=6)  # declare  token0\n",
    "eth = TokenInfo(name=\"eth\", decimal=18)  # declare token1\n",
    "pool = UniV3Pool(usdc, eth, 0.05, usdc)  # declare pool\n",
    "market_key = MarketInfo(\"market1\")\n",
    "\n",
    "actuator = Actuator()  # declare actuator\n",
    "broker = actuator.broker\n",
    "market = UniLpMarket(market_key, pool)\n",
    "\n",
    "broker.add_market(market)\n",
    "broker.set_balance(usdc, 2000)\n",
    "broker.set_balance(eth, 0)\n",
    "\n",
    "actuator.strategy = FillUpStrategy(200)\n",
    "\n",
    "market.data_path = \"../data\"\n",
    "market.load_data(ChainType.polygon.name, \"0x45dda9cb7c25131df268515131f647d726f50608\", date(2023, 8, 13), date(2023, 8, 17))\n",
    "actuator.set_price(market.get_price_from_data())\n",
    "# actuator.run()  # run test"
   ],
   "metadata": {
    "collapsed": false,
    "ExecuteTime": {
     "end_time": "2024-07-22T08:24:15.337214Z",
     "start_time": "2024-07-22T08:24:15.051989Z"
    }
   },
   "outputs": [
    {
     "name": "stderr",
     "output_type": "stream",
     "text": [
      "2024-07-22 16:24:15,055 - INFO - start load files from 2023-08-13 to 2023-08-17...\n",
      "2024-07-22 16:24:15,123 - INFO - load file complete, preparing...\n",
      "2024-07-22 16:24:15,319 - INFO - data has been prepared\n"
     ]
    }
   ],
   "execution_count": 7
  },
  {
   "cell_type": "markdown",
   "source": [
    "Run actuator with evaluators and save result to files"
   ],
   "metadata": {
    "collapsed": false
   }
  },
  {
   "cell_type": "code",
   "source": [
    "actuator.run()\n",
    "print({k: round(v, 5) for k, v in performance_metrics(\n",
    "    actuator.account_status_df[\"net_value\"], benchmark=actuator.account_status_df[\"price\"][\"ETH\"]\n",
    ").items()})\n",
    "\n",
    "actuator.save_result(\n",
    "    path=\"./result\",  # save path\n",
    "    account=True,  # save account status list as a csv file\n",
    "    actions=True,  # save actions as a json file and a pickle file\n",
    ")"
   ],
   "metadata": {
    "collapsed": false,
    "ExecuteTime": {
     "end_time": "2024-07-22T08:24:18.746225Z",
     "start_time": "2024-07-22T08:24:15.338241Z"
    }
   },
   "outputs": [
    {
     "name": "stderr",
     "output_type": "stream",
     "text": [
      "2024-07-22 16:24:15,340 - INFO - init strategy...\n",
      "2024-07-22 16:24:15,343 - INFO - start main loop...\n",
      "100%|███████████████████████████████████████████████████████████████████████████████████████████████████████████| 7200/7200 [00:02<00:00, 2743.58it/s]\n",
      "2024-07-22 16:24:17,979 - INFO - main loop finished\n",
      "2024-07-22 16:24:18,125 - INFO - Print actuator summary\n",
      "2024-07-22 16:24:18,321 - INFO - Backtesting finished, execute time 2.9823007583618164s\n"
     ]
    },
    {
     "name": "stdout",
     "output_type": "stream",
     "text": [
      "\u001B[7;31mFinal account status                              \u001B[0m\n",
      "\u001B[7;35mToken balance in broker       \u001B[0m\n",
      "\u001B[34mUSDC      \u001B[0m:0                        \u001B[34mETH       \u001B[0m:0.055894992              \n",
      "\u001B[7;35mPosition value in markets     \u001B[0m\n",
      "\u001B[4;33mmarket1(UniLpMarket)\u001B[0m\n",
      "\u001B[34mtoken0    \u001B[0m:USDC                     \u001B[34mtoken1    \u001B[0m:ETH                      \u001B[34mfee(%)    \u001B[0m:0.0500                   \u001B[34mquote token\u001B[0m:USDC                     \n",
      "\u001B[34mpositions \u001B[0m\n",
      "   lower_tick  upper_tick   pending0      pending1        liquidity\n",
      "0      200278      202501  3.1833314  0.0020557076  408404128309088\n",
      "1      201328      202501      0e-10         0e-22                0\n",
      "\n",
      "\u001B[7;31mAccount balance history                           \u001B[0m\n",
      "l1                  net_value tokens               market1                                                                                          price     \n",
      "l2                              USDC         ETH net_value base_uncollected quote_uncollected base_in_position quote_in_position position_count       ETH USDC\n",
      "2023-08-13 00:00:00    1999.5      0 0.053866915 1899.9473    9.3205287e-08                 0       0.48708698         999.74982              2 1848.1244    1\n",
      "2023-08-13 00:01:00    1999.5      0 0.053866915 1899.9473    9.3205287e-08                 0       0.48708698         999.74982              2 1848.1244    1\n",
      "2023-08-13 00:02:00    1999.5      0 0.053866915 1899.9473    9.3232465e-08                 0       0.48708698         999.74982              2 1848.1244    1\n",
      "2023-08-13 00:03:00    1999.5      0 0.053866915 1899.9473    9.9942405e-08                 0       0.48708698         999.74982              2 1848.1244    1\n",
      "2023-08-13 00:04:00 1999.5001      0 0.053866915 1899.9473    1.1335268e-07                 0       0.48708698         999.74982              2 1848.1244    1\n",
      "...                       ...    ...         ...       ...              ...               ...              ...               ...            ...       ...  ...\n",
      "2023-08-17 23:55:00  1895.468      0 0.055894993 1801.3969     0.0020537474         3.1784308       0.83811849         384.21136              2 1682.9967    1\n",
      "2023-08-17 23:56:00 1895.7701      0 0.055894993 1801.6802     0.0020537474         3.1790977        0.8371231         385.88681              2 1683.3334    1\n",
      "2023-08-17 23:57:00 1895.7734      0 0.055894993 1801.6836     0.0020557076         3.1791108        0.8371231         385.88681              2 1683.3334    1\n",
      "2023-08-17 23:58:00 1896.0789      0 0.055894993 1801.9701     0.0020557076         3.1833315       0.83612776         387.56244              2   1683.67    1\n",
      "2023-08-17 23:59:00 1896.0789      0 0.055894993 1801.9701     0.0020557076         3.1833315       0.83612776         387.56244              2   1683.67    1\n",
      "\n",
      "[7200 rows x 11 columns]\n"
     ]
    },
    {
     "ename": "NameError",
     "evalue": "name 'performance_metrics' is not defined",
     "output_type": "error",
     "traceback": [
      "\u001B[1;31m---------------------------------------------------------------------------\u001B[0m",
      "\u001B[1;31mNameError\u001B[0m                                 Traceback (most recent call last)",
      "Cell \u001B[1;32mIn[8], line 2\u001B[0m\n\u001B[0;32m      1\u001B[0m actuator\u001B[38;5;241m.\u001B[39mrun()\n\u001B[1;32m----> 2\u001B[0m \u001B[38;5;28mprint\u001B[39m({k: \u001B[38;5;28mround\u001B[39m(v, \u001B[38;5;241m5\u001B[39m) \u001B[38;5;28;01mfor\u001B[39;00m k, v \u001B[38;5;129;01min\u001B[39;00m \u001B[43mperformance_metrics\u001B[49m(\n\u001B[0;32m      3\u001B[0m     actuator\u001B[38;5;241m.\u001B[39maccount_status_df[\u001B[38;5;124m\"\u001B[39m\u001B[38;5;124mnet_value\u001B[39m\u001B[38;5;124m\"\u001B[39m], benchmark\u001B[38;5;241m=\u001B[39mactuator\u001B[38;5;241m.\u001B[39maccount_status_df[\u001B[38;5;124m\"\u001B[39m\u001B[38;5;124mprice\u001B[39m\u001B[38;5;124m\"\u001B[39m][\u001B[38;5;124m\"\u001B[39m\u001B[38;5;124mETH\u001B[39m\u001B[38;5;124m\"\u001B[39m]\n\u001B[0;32m      4\u001B[0m )\u001B[38;5;241m.\u001B[39mitems()})\n\u001B[0;32m      6\u001B[0m actuator\u001B[38;5;241m.\u001B[39msave_result(\n\u001B[0;32m      7\u001B[0m     path\u001B[38;5;241m=\u001B[39m\u001B[38;5;124m\"\u001B[39m\u001B[38;5;124m./result\u001B[39m\u001B[38;5;124m\"\u001B[39m,  \u001B[38;5;66;03m# save path\u001B[39;00m\n\u001B[0;32m      8\u001B[0m     account\u001B[38;5;241m=\u001B[39m\u001B[38;5;28;01mTrue\u001B[39;00m,  \u001B[38;5;66;03m# save account status list as a csv file\u001B[39;00m\n\u001B[0;32m      9\u001B[0m     actions\u001B[38;5;241m=\u001B[39m\u001B[38;5;28;01mTrue\u001B[39;00m,  \u001B[38;5;66;03m# save actions as a json file and a pickle file\u001B[39;00m\n\u001B[0;32m     10\u001B[0m )\n",
      "\u001B[1;31mNameError\u001B[0m: name 'performance_metrics' is not defined"
     ]
    }
   ],
   "execution_count": 8
  },
  {
   "cell_type": "markdown",
   "source": [
    "Make plot about output net value、value in position、value in account and price"
   ],
   "metadata": {
    "collapsed": false
   }
  },
  {
   "cell_type": "code",
   "source": "plot_position_return_decomposition(actuator.account_status_df, actuator.token_prices[eth.name], market_key)",
   "metadata": {
    "collapsed": false
   },
   "outputs": [],
   "execution_count": null
  }
 ],
 "metadata": {
  "kernelspec": {
   "display_name": "Python 3",
   "language": "python",
   "name": "python3"
  },
  "language_info": {
   "codemirror_mode": {
    "name": "ipython",
    "version": 2
   },
   "file_extension": ".py",
   "mimetype": "text/x-python",
   "name": "python",
   "nbconvert_exporter": "python",
   "pygments_lexer": "ipython2",
   "version": "2.7.6"
  }
 },
 "nbformat": 4,
 "nbformat_minor": 0
}
