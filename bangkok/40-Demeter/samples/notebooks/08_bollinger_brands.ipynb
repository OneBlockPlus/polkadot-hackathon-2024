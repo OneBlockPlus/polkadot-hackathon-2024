{
 "cells": [
  {
   "cell_type": "markdown",
   "metadata": {
    "collapsed": false,
    "jupyter": {
     "outputs_hidden": false
    }
   },
   "source": [
    "# Bollinger Bands\n",
    "This strategy combines the moving average strategy 4.9 and the volatility sized intervals strategy 4.10. We will provide liquidity inside the Bollinger Bands. These bands are made up of a lower band BOLL = pa −c·v and an upper band BOLU = pa +c·v. The liquidity position will be [pa −v·c,pa +v·c]. This strategy also has an unused leftover token."
   ]
  },
  {
   "cell_type": "markdown",
   "metadata": {
    "collapsed": false,
    "jupyter": {
     "outputs_hidden": false
    }
   },
   "source": [
    "Import code dependencies"
   ]
  },
  {
   "cell_type": "code",
   "metadata": {
    "collapsed": false,
    "jupyter": {
     "outputs_hidden": false
    },
    "ExecuteTime": {
     "end_time": "2024-07-22T09:36:28.605660Z",
     "start_time": "2024-07-22T09:36:27.703540Z"
    }
   },
   "source": [
    "import math\n",
    "from datetime import date, timedelta\n",
    "\n",
    "import pandas as pd\n",
    "\n",
    "from demeter import (\n",
    "    TokenInfo,\n",
    "    Actuator,\n",
    "    Strategy,\n",
    "    ChainType,\n",
    "    PeriodTrigger,\n",
    "    realized_volatility,\n",
    "    simple_moving_average,\n",
    "    MarketInfo,\n",
    "    RowData,\n",
    ")\n",
    "from demeter.result import performance_metrics\n",
    "from demeter.uniswap import UniV3Pool, UniLpMarket"
   ],
   "outputs": [],
   "execution_count": 1
  },
  {
   "cell_type": "markdown",
   "metadata": {
    "collapsed": false,
    "jupyter": {
     "outputs_hidden": false
    }
   },
   "source": [
    "Set pandas output format and const variables."
   ]
  },
  {
   "cell_type": "code",
   "metadata": {
    "collapsed": false,
    "jupyter": {
     "outputs_hidden": false
    },
    "ExecuteTime": {
     "end_time": "2024-07-22T09:36:28.615821Z",
     "start_time": "2024-07-22T09:36:28.608707Z"
    }
   },
   "source": [
    "pd.options.display.max_columns = None\n",
    "pd.set_option(\"display.width\", 5000)\n",
    "c = 2"
   ],
   "outputs": [],
   "execution_count": 2
  },
  {
   "cell_type": "markdown",
   "metadata": {
    "collapsed": false,
    "jupyter": {
     "outputs_hidden": false
    }
   },
   "source": [
    "Custom Add By Volatility strategy with code to add liquidity price at around one day bollinger bands."
   ]
  },
  {
   "cell_type": "code",
   "metadata": {
    "collapsed": false,
    "jupyter": {
     "outputs_hidden": false
    },
    "ExecuteTime": {
     "end_time": "2024-07-22T09:36:28.640535Z",
     "start_time": "2024-07-22T09:36:28.618527Z"
    }
   },
   "source": [
    "class AddByVolatilityStrategy(Strategy):\n",
    "    \"\"\"\n",
    "    We will provide liquidity inside the Bollinger Bands.\n",
    "    These bands are made up of a lower band BOLL = pa − c · v\n",
    "    and an upper band BOLU = pa + c · v.\n",
    "    The liquidity get_position will be [pa − v · c, pa + v · c].\n",
    "\n",
    "    * pa is simple moving average\n",
    "    * c is a constant value, =2\n",
    "    * v is volatility\n",
    "\n",
    "    we will adjust liquidity every 4 hours, by remove all the liquidity, then even split all the capital into two assets,\n",
    "    and provide liquidity by the rules above.\n",
    "\n",
    "    \"\"\"\n",
    "\n",
    "    def initialize(self):\n",
    "        self.add_column(market_key, \"sma_1_day\", simple_moving_average(self.data[market_key].price, timedelta(days=1)))\n",
    "        self.add_column(market_key, \"volatility\", realized_volatility(self.data[market_key].price, timedelta(days=1), timedelta(days=1)))\n",
    "        self.triggers.append(PeriodTrigger(time_delta=timedelta(hours=4), trigger_immediately=True, do=self.work))\n",
    "        self.markets.default.even_rebalance(self.data[market_key].price[0])\n",
    "\n",
    "    def work(self, row_data: RowData):\n",
    "        lp_market: UniLpMarket = self.broker.markets[market_key]\n",
    "        lp_row_data = row_data.market_status[market_key]\n",
    "        if len(lp_market.positions) > 0:\n",
    "            lp_market.remove_all_liquidity()\n",
    "            lp_market.even_rebalance(row_data.prices[eth.name])\n",
    "        if math.isnan(lp_row_data.volatility):\n",
    "            return\n",
    "        limit = c * float(row_data.prices[eth.name]) * lp_row_data.volatility\n",
    "        lp_market.add_liquidity(lp_row_data.sma_1_day - limit, lp_row_data.sma_1_day + limit)\n"
   ],
   "outputs": [],
   "execution_count": 3
  },
  {
   "cell_type": "markdown",
   "metadata": {
    "collapsed": false,
    "jupyter": {
     "outputs_hidden": false
    }
   },
   "source": [
    "Main logic to run Actuator, init two token and market with key \"market1\""
   ]
  },
  {
   "cell_type": "code",
   "metadata": {
    "collapsed": false,
    "jupyter": {
     "outputs_hidden": false
    },
    "ExecuteTime": {
     "end_time": "2024-07-22T09:36:29.075548Z",
     "start_time": "2024-07-22T09:36:28.643581Z"
    }
   },
   "source": [
    "usdc = TokenInfo(name=\"usdc\", decimal=6)  # declare  token0\n",
    "eth = TokenInfo(name=\"eth\", decimal=18)  # declare token1\n",
    "pool = UniV3Pool(usdc, eth, 0.05, usdc)  # declare pool\n",
    "market_key = MarketInfo(\"market1\")\n",
    "\n",
    "actuator = Actuator()  # declare actuator\n",
    "broker = actuator.broker\n",
    "market = UniLpMarket(market_key, pool)\n",
    "\n",
    "broker.add_market(market)\n",
    "broker.set_balance(usdc, 5000)\n",
    "broker.set_balance(eth, 0)\n",
    "\n",
    "actuator.strategy = AddByVolatilityStrategy()\n",
    "\n",
    "market.data_path = \"../data\"\n",
    "market.load_data(ChainType.polygon.name, \"0x45dda9cb7c25131df268515131f647d726f50608\", date(2023, 8, 13), date(2023, 8, 17))\n",
    "actuator.set_price(market.get_price_from_data())\n",
    "# actuator.run()  # run test"
   ],
   "outputs": [
    {
     "name": "stderr",
     "output_type": "stream",
     "text": [
      "2024-07-22 17:36:28,653 - INFO - start load files from 2023-08-13 to 2023-08-17...\n",
      "2024-07-22 17:36:28,741 - INFO - load file complete, preparing...\n",
      "2024-07-22 17:36:29,042 - INFO - data has been prepared\n"
     ]
    }
   ],
   "execution_count": 4
  },
  {
   "cell_type": "markdown",
   "metadata": {
    "collapsed": false,
    "jupyter": {
     "outputs_hidden": false
    }
   },
   "source": [
    "Run actuator with evaluators and save result to files"
   ]
  },
  {
   "cell_type": "code",
   "metadata": {
    "collapsed": false,
    "jupyter": {
     "outputs_hidden": false
    },
    "ExecuteTime": {
     "end_time": "2024-07-22T09:36:33.885968Z",
     "start_time": "2024-07-22T09:36:29.078595Z"
    }
   },
   "source": [
    "actuator.run()\n",
    "print({k: round(v, 5) for k, v in performance_metrics(\n",
    "    actuator.account_status_df[\"net_value\"], benchmark=actuator.account_status_df[\"price\"][\"ETH\"]\n",
    ").items()})\n",
    "\n",
    "actuator.save_result(\n",
    "    path=\"./result\",  # save path\n",
    "    account=True,  # save account status list as a csv file\n",
    "    actions=True,  # save actions as a json file and a pickle file\n",
    ")"
   ],
   "outputs": [
    {
     "name": "stderr",
     "output_type": "stream",
     "text": [
      "2024-07-22 17:36:29,084 - INFO - init strategy...\n",
      "C:\\Users\\sun\\AppData\\Local\\Temp\\ipykernel_19304\\36816503.py:21: FutureWarning: Series.__getitem__ treating keys as positions is deprecated. In a future version, integer keys will always be treated as labels (consistent with DataFrame behavior). To access a value by position, use `ser.iloc[pos]`\n",
      "  self.markets.default.even_rebalance(self.data[market_key].price[0])\n",
      "2024-07-22 17:36:29,251 - INFO - start main loop...\n",
      "100%|███████████████████████████████████████████████████████████████████████████████████████████████████████████| 7200/7200 [00:04<00:00, 1715.16it/s]\n",
      "2024-07-22 17:36:33,465 - INFO - main loop finished\n",
      "2024-07-22 17:36:33,623 - INFO - Print actuator summary\n",
      "2024-07-22 17:36:33,785 - INFO - Backtesting finished, execute time 4.7031238079071045s\n"
     ]
    },
    {
     "name": "stdout",
     "output_type": "stream",
     "text": [
      "\u001B[7;31mFinal account status                              \u001B[0m\n",
      "\u001B[7;35mToken balance in broker       \u001B[0m\n",
      "\u001B[34mUSDC      \u001B[0m:2426.8888                \u001B[34mETH       \u001B[0m:0                        \n",
      "\u001B[7;35mPosition value in markets     \u001B[0m\n",
      "\u001B[4;33mmarket1(UniLpMarket)\u001B[0m\n",
      "\u001B[34mtoken0    \u001B[0m:USDC                     \u001B[34mtoken1    \u001B[0m:ETH                      \u001B[34mfee(%)    \u001B[0m:0.0500                   \u001B[34mquote token\u001B[0m:USDC                     \n",
      "\u001B[34mpositions \u001B[0m\n",
      "   lower_tick  upper_tick pending0 pending1         liquidity\n",
      "0      201205      201695        0        0  2409457828585901\n",
      "\n",
      "\u001B[7;31mAccount balance history                           \u001B[0m\n",
      "l1                  net_value    tokens             market1                                                                                          price     \n",
      "l2                                 USDC       ETH net_value base_uncollected quote_uncollected base_in_position quote_in_position position_count       ETH USDC\n",
      "2023-08-13 00:00:00 4998.7495 2499.3745 1.3523847         0                0                 0                0                 0              0 1848.1244    1\n",
      "2023-08-13 00:01:00 4998.7495 2499.3745 1.3523847         0                0                 0                0                 0              0 1848.1244    1\n",
      "2023-08-13 00:02:00 4998.7495 2499.3745 1.3523847         0                0                 0                0                 0              0 1848.1244    1\n",
      "2023-08-13 00:03:00 4998.7495 2499.3745 1.3523847         0                0                 0                0                 0              0 1848.1244    1\n",
      "2023-08-13 00:04:00 4998.7495 2499.3745 1.3523847         0                0                 0                0                 0              0 1848.1244    1\n",
      "...                       ...       ...       ...       ...              ...               ...              ...               ...            ...       ...  ...\n",
      "2023-08-17 23:55:00 4778.5259 2426.8889         0  2351.637                0                 0        1.3972915                 0              1 1682.9967    1\n",
      "2023-08-17 23:56:00 4778.9961 2426.8889         0 2352.1074                0                 0        1.3972915                 0              1 1683.3334    1\n",
      "2023-08-17 23:57:00 4778.9961 2426.8889         0 2352.1074                0                 0        1.3972915                 0              1 1683.3334    1\n",
      "2023-08-17 23:58:00 4779.4668 2426.8889         0 2352.5779                0                 0        1.3972915                 0              1   1683.67    1\n",
      "2023-08-17 23:59:00 4779.4668 2426.8889         0 2352.5779                0                 0        1.3972915                 0              1   1683.67    1\n",
      "\n",
      "[7200 rows x 11 columns]\n"
     ]
    },
    {
     "name": "stderr",
     "output_type": "stream",
     "text": [
      "2024-07-22 17:36:33,879 - INFO - files have saved to ./result\\backtest-20240722-173633.account.csv,./result\\backtest-20240722-173633.action.json,./result\\backtest-20240722-173633.action.pkl\n"
     ]
    },
    {
     "name": "stdout",
     "output_type": "stream",
     "text": [
      "{Return: Decimal('-219.28307'), Rate of Return: Decimal('-0.04387'), Annualized Return: Decimal('-0.96217'), Max Draw Down: Decimal('0.07140'), Sharpe Ratio: Decimal('-14.62548'), Volatility: Decimal('414.47490'), alpha: Decimal('0.00000'), beta: Decimal('0.49466')}\n"
     ]
    },
    {
     "data": {
      "text/plain": [
       "['./result\\\\backtest-20240722-173633.account.csv',\n",
       " './result\\\\backtest-20240722-173633.action.json',\n",
       " './result\\\\backtest-20240722-173633.action.pkl']"
      ]
     },
     "execution_count": 5,
     "metadata": {},
     "output_type": "execute_result"
    }
   ],
   "execution_count": 5
  }
 ],
 "metadata": {
  "kernelspec": {
   "display_name": "Python 3 (ipykernel)",
   "language": "python",
   "name": "python3"
  },
  "language_info": {
   "codemirror_mode": {
    "name": "ipython",
    "version": 3
   },
   "file_extension": ".py",
   "mimetype": "text/x-python",
   "name": "python",
   "nbconvert_exporter": "python",
   "pygments_lexer": "ipython3",
   "version": "3.10.1"
  }
 },
 "nbformat": 4,
 "nbformat_minor": 4
}
