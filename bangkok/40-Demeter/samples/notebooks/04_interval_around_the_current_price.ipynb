{
 "cells": [
  {
   "cell_type": "markdown",
   "source": [
    "# Interval Around the Current Price\n",
    "This strategy will provide liquidity around the current price in a fixed interval. We will rebalance our position every update interval as discussed in the beginning of chapter 4. Let pc be the current price and a ∈ [10, 40000], then we will set our position to [pc − a, pc + a] at every update interval.\n",
    "We will fill the interval as much as possible. However, it is usually not possible to use up both tokens, so the remaining token will be left outside the pool."
   ],
   "metadata": {
    "collapsed": false
   }
  },
  {
   "cell_type": "markdown",
   "source": [
    "Import code dependencies"
   ],
   "metadata": {
    "collapsed": false
   }
  },
  {
   "cell_type": "code",
   "source": [
    "from datetime import timedelta, date\n",
    "\n",
    "import pandas as pd\n",
    "\n",
    "from demeter import TokenInfo, Actuator, ChainType, MarketInfo, Strategy, PeriodTrigger, RowData\n",
    "from demeter.result import performance_metrics\n",
    "from demeter.uniswap import UniV3Pool, UniLpMarket"
   ],
   "metadata": {
    "collapsed": false,
    "ExecuteTime": {
     "end_time": "2024-07-22T08:20:54.444182Z",
     "start_time": "2024-07-22T08:20:54.440051Z"
    }
   },
   "outputs": [],
   "execution_count": 11
  },
  {
   "cell_type": "markdown",
   "source": [
    "Set pandas output format"
   ],
   "metadata": {
    "collapsed": false
   }
  },
  {
   "cell_type": "code",
   "source": [
    "pd.options.display.max_columns = None\n",
    "pd.set_option(\"display.width\", 5000)"
   ],
   "metadata": {
    "collapsed": false,
    "ExecuteTime": {
     "end_time": "2024-07-22T08:20:54.480846Z",
     "start_time": "2024-07-22T08:20:54.476199Z"
    }
   },
   "outputs": [],
   "execution_count": 12
  },
  {
   "cell_type": "markdown",
   "source": [
    "Custom Intervals Around the Current Price strategy to add liquidity at constant interval around current price."
   ],
   "metadata": {
    "collapsed": false
   }
  },
  {
   "cell_type": "code",
   "source": [
    "class IntervalsAroundtheCurrentPriceStrategy(Strategy):\n",
    "    def __init__(self, a=10, b=1, update_interval=timedelta(days=1)):\n",
    "        super().__init__()\n",
    "        self.a = a\n",
    "        self.b = b\n",
    "\n",
    "    def initialize(self):\n",
    "        lp_market: UniLpMarket = self.broker.markets[market_key]\n",
    "        current_price = lp_market.market_status.data.price\n",
    "\n",
    "        lp_market.add_liquidity(current_price - self.a, current_price + self.a)\n",
    "        self.triggers.append(PeriodTrigger(time_delta=timedelta(days=1), do=self.work))\n",
    "\n",
    "    def work(self, row_data: RowData):\n",
    "        lp_market: UniLpMarket = self.broker.markets[market_key]\n",
    "        current_price = row_data.prices[eth.name]\n",
    "        if len(lp_market.positions) > 0:\n",
    "            lp_market.remove_all_liquidity()\n",
    "            lp_market.even_rebalance(row_data.prices[eth.name])\n",
    "\n",
    "        lp_market.add_liquidity(current_price - self.a, current_price + self.a)"
   ],
   "metadata": {
    "collapsed": false,
    "ExecuteTime": {
     "end_time": "2024-07-22T08:20:54.491371Z",
     "start_time": "2024-07-22T08:20:54.483867Z"
    }
   },
   "outputs": [],
   "execution_count": 13
  },
  {
   "cell_type": "markdown",
   "source": [
    "Main logic to run Actuator, init two token and market with key \"market1\""
   ],
   "metadata": {
    "collapsed": false
   }
  },
  {
   "cell_type": "code",
   "source": [
    "usdc = TokenInfo(name=\"usdc\", decimal=6)  # declare  token0\n",
    "eth = TokenInfo(name=\"eth\", decimal=18)  # declare token1\n",
    "pool = UniV3Pool(usdc, eth, 0.05, usdc)  # declare pool\n",
    "market_key = MarketInfo(\"market1\")\n",
    "\n",
    "actuator = Actuator()  # declare actuator\n",
    "broker = actuator.broker\n",
    "market = UniLpMarket(market_key, pool)\n",
    "\n",
    "broker.add_market(market)\n",
    "broker.set_balance(usdc, 1800)\n",
    "broker.set_balance(eth, 1)\n",
    "\n",
    "actuator.strategy = IntervalsAroundtheCurrentPriceStrategy(400, 200)\n",
    "\n",
    "market.data_path = \"../data\"\n",
    "market.load_data(ChainType.polygon.name, \"0x45dda9cb7c25131df268515131f647d726f50608\", date(2023, 8, 13), date(2023, 8, 17))\n",
    "actuator.set_price(market.get_price_from_data())\n",
    "# actuator.run()"
   ],
   "metadata": {
    "collapsed": false,
    "ExecuteTime": {
     "end_time": "2024-07-22T08:20:54.743568Z",
     "start_time": "2024-07-22T08:20:54.493390Z"
    }
   },
   "outputs": [
    {
     "name": "stderr",
     "output_type": "stream",
     "text": [
      "2024-07-22 16:20:54,496 - INFO - start load files from 2023-08-13 to 2023-08-17...\n",
      "2024-07-22 16:20:54,545 - INFO - load file complete, preparing...\n",
      "2024-07-22 16:20:54,724 - INFO - data has been prepared\n"
     ]
    }
   ],
   "execution_count": 14
  },
  {
   "cell_type": "markdown",
   "source": [
    "Run actuator with evaluators and save result to files"
   ],
   "metadata": {
    "collapsed": false
   }
  },
  {
   "cell_type": "code",
   "source": [
    "actuator.run()\n",
    "print({k: round(v, 5) for k, v in performance_metrics(\n",
    "    actuator.account_status_df[\"net_value\"], benchmark=actuator.account_status_df[\"price\"][\"ETH\"]\n",
    ").items()})\n",
    "\n",
    "actuator.save_result(\n",
    "    path=\"./result\",  # save path\n",
    "    account=True,  # save account status list as a csv file\n",
    "    actions=True,  # save actions as a json file and a pickle file\n",
    ")"
   ],
   "metadata": {
    "collapsed": false,
    "ExecuteTime": {
     "end_time": "2024-07-22T08:20:57.784992Z",
     "start_time": "2024-07-22T08:20:54.745112Z"
    }
   },
   "outputs": [
    {
     "name": "stderr",
     "output_type": "stream",
     "text": [
      "2024-07-22 16:20:54,748 - INFO - init strategy...\n",
      "2024-07-22 16:20:54,751 - INFO - start main loop...\n",
      "100%|███████████████████████████████████████████████████████████████████████████████████████████████████████████| 7200/7200 [00:02<00:00, 2792.83it/s]\n",
      "2024-07-22 16:20:57,334 - INFO - main loop finished\n",
      "2024-07-22 16:20:57,479 - INFO - Print actuator summary\n",
      "2024-07-22 16:20:57,666 - INFO - Backtesting finished, execute time 2.9188175201416016s\n"
     ]
    },
    {
     "name": "stdout",
     "output_type": "stream",
     "text": [
      "\u001B[7;31mFinal account status                              \u001B[0m\n",
      "\u001B[7;35mToken balance in broker       \u001B[0m\n",
      "\u001B[34mUSDC      \u001B[0m:0                        \u001B[34mETH       \u001B[0m:0.19004280               \n",
      "\u001B[7;35mPosition value in markets     \u001B[0m\n",
      "\u001B[4;33mmarket1(UniLpMarket)\u001B[0m\n",
      "\u001B[34mtoken0    \u001B[0m:USDC                     \u001B[34mtoken1    \u001B[0m:ETH                      \u001B[34mfee(%)    \u001B[0m:0.0500                   \u001B[34mquote token\u001B[0m:USDC                     \n",
      "\u001B[34mpositions \u001B[0m\n",
      "   lower_tick  upper_tick   pending0      pending1        liquidity\n",
      "0      199327      203830  2.8842556  0.0018592076  360893373781018\n",
      "\n",
      "\u001B[7;31mAccount balance history                           \u001B[0m\n",
      "l1                  net_value tokens              market1                                                                                          price     \n",
      "l2                              USDC        ETH net_value base_uncollected quote_uncollected base_in_position quote_in_position position_count       ETH USDC\n",
      "2023-08-13 00:00:00 3648.1245      0 0.20806287 3263.5984    8.1332487e-08                 0       0.79193711              1800              1 1848.1244    1\n",
      "2023-08-13 00:01:00 3648.1245      0 0.20806287 3263.5984    8.1332487e-08                 0       0.79193711              1800              1 1848.1244    1\n",
      "2023-08-13 00:02:00 3648.1245      0 0.20806287 3263.5984    8.1356198e-08                 0       0.79193711              1800              1 1848.1244    1\n",
      "2023-08-13 00:03:00 3648.1245      0 0.20806287 3263.5984    8.7211411e-08                 0       0.79193711              1800              1 1848.1244    1\n",
      "2023-08-13 00:04:00 3648.1245      0 0.20806287 3263.5984    9.8913439e-08                 0       0.79193711              1800              1 1848.1244    1\n",
      "...                       ...    ...        ...       ...              ...               ...              ...               ...            ...       ...  ...\n",
      "2023-08-17 23:55:00 3471.4014      0 0.19004279 3151.5598     0.0018574753         2.8799248        1.1147181         1269.4869              1 1682.9967    1\n",
      "2023-08-17 23:56:00 3471.8416      0 0.19004279  3151.936     0.0018574753         2.8805141        1.1138384         1270.9675              1 1683.3334    1\n",
      "2023-08-17 23:57:00 3471.8445      0 0.19004279  3151.939     0.0018592075         2.8805258        1.1138384         1270.9675              1 1683.3334    1\n",
      "2023-08-17 23:58:00 3472.2876      0 0.19004279 3152.3184     0.0018592075         2.8842556        1.1129589         1272.4482              1   1683.67    1\n",
      "2023-08-17 23:59:00 3472.2876      0 0.19004279 3152.3184     0.0018592075         2.8842556        1.1129589         1272.4482              1   1683.67    1\n",
      "\n",
      "[7200 rows x 11 columns]\n",
      "{Return: Decimal('-175.83688'), Rate of Return: Decimal('-0.04820'), Annualized Return: Decimal('-0.97284'), Max Draw Down: Decimal('0.08637'), Sharpe Ratio: Decimal('-12.20330'), Volatility: Decimal('339.31976'), alpha: Decimal('0.00000'), beta: Decimal('0.64708')}\n"
     ]
    },
    {
     "name": "stderr",
     "output_type": "stream",
     "text": [
      "2024-07-22 16:20:57,779 - INFO - files have saved to ./result\\backtest-20240722-162057.account.csv,./result\\backtest-20240722-162057.action.json,./result\\backtest-20240722-162057.action.pkl\n"
     ]
    },
    {
     "data": {
      "text/plain": [
       "['./result\\\\backtest-20240722-162057.account.csv',\n",
       " './result\\\\backtest-20240722-162057.action.json',\n",
       " './result\\\\backtest-20240722-162057.action.pkl']"
      ]
     },
     "execution_count": 15,
     "metadata": {},
     "output_type": "execute_result"
    }
   ],
   "execution_count": 15
  }
 ],
 "metadata": {
  "kernelspec": {
   "display_name": "Python 3",
   "language": "python",
   "name": "python3"
  },
  "language_info": {
   "codemirror_mode": {
    "name": "ipython",
    "version": 2
   },
   "file_extension": ".py",
   "mimetype": "text/x-python",
   "name": "python",
   "nbconvert_exporter": "python",
   "pygments_lexer": "ipython2",
   "version": "2.7.6"
  }
 },
 "nbformat": 4,
 "nbformat_minor": 0
}
