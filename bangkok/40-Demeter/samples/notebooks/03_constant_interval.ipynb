{
 "cells": [
  {
   "cell_type": "markdown",
   "metadata": {
    "collapsed": false,
    "jupyter": {
     "outputs_hidden": false
    }
   },
   "source": [
    "# Constant Interval\n",
    "\n",
    "We will choose a fixed parameter a > 0 for this strategy. In the beginning, we will provide liquidity in a symmetric interval around the current price. This interval will never be adjusted. More specifically, we will choose the interval [p − a, p + a], where p is the price at the beginning.\n",
    "For the USDC-ETH pool, we will choose a ∈ [10, 40000], which means that the size is between 10 and 40000 basis points, or 0.1% and 400%. It does not make sense to choose another a because, at any time, the price is always in [p−a,p+a]."
   ]
  },
  {
   "cell_type": "markdown",
   "metadata": {
    "collapsed": false,
    "jupyter": {
     "outputs_hidden": false
    }
   },
   "source": [
    "Import code dependencies"
   ]
  },
  {
   "cell_type": "code",
   "metadata": {
    "collapsed": false,
    "jupyter": {
     "outputs_hidden": false
    },
    "ExecuteTime": {
     "end_time": "2024-07-22T08:21:14.045985Z",
     "start_time": "2024-07-22T08:21:14.041917Z"
    }
   },
   "source": [
    "from typing import List\n",
    "\n",
    "import pandas as pd\n",
    "from matplotlib.pylab import plt\n",
    "import matplotlib.dates as mdates\n",
    "\n",
    "from demeter import MarketInfo\n",
    "from demeter.broker import AccountStatus\n",
    "from demeter.result import performance_metrics"
   ],
   "outputs": [],
   "execution_count": 47
  },
  {
   "cell_type": "markdown",
   "metadata": {
    "collapsed": false,
    "jupyter": {
     "outputs_hidden": false
    }
   },
   "source": [
    "Set matplotlib to show formatted account status"
   ]
  },
  {
   "cell_type": "code",
   "metadata": {
    "collapsed": false,
    "jupyter": {
     "outputs_hidden": false
    },
    "ExecuteTime": {
     "end_time": "2024-07-22T08:21:14.108904Z",
     "start_time": "2024-07-22T08:21:14.104051Z"
    }
   },
   "source": [
    "def plotter(account_status_list: List[AccountStatus]):\n",
    "    net_value_ts = [status.net_value for status in account_status_list]\n",
    "    time_ts = [status.timestamp for status in account_status_list]\n",
    "    plt.plot(time_ts, net_value_ts)\n",
    "    plt.show()"
   ],
   "outputs": [],
   "execution_count": 48
  },
  {
   "cell_type": "markdown",
   "metadata": {
    "collapsed": false,
    "jupyter": {
     "outputs_hidden": false
    }
   },
   "source": [
    "Make plot about price and account value / position net value"
   ]
  },
  {
   "cell_type": "code",
   "metadata": {
    "collapsed": false,
    "jupyter": {
     "outputs_hidden": false
    },
    "ExecuteTime": {
     "end_time": "2024-07-22T08:21:14.117596Z",
     "start_time": "2024-07-22T08:21:14.111930Z"
    }
   },
   "source": [
    "def plot_position_return_decomposition(account_status: pd.DataFrame, price: pd.Series, market: MarketInfo):\n",
    "    fig, value_ax = plt.subplots()\n",
    "    day = mdates.DayLocator(interval=2)\n",
    "\n",
    "    price_ax = value_ax.twinx()\n",
    "    price_ax.xaxis.set_major_locator(day)\n",
    "    price_ax.xaxis.set_major_formatter(mdates.DateFormatter('%m-%d'))\n",
    "    value_ax.set_xlabel('time')\n",
    "    value_ax.set_ylabel('value', color='g')\n",
    "    price_ax.set_ylabel('price', color='b')\n",
    "\n",
    "    net_value_ts = list(account_status.net_value)\n",
    "    time_ts = list(account_status.index)\n",
    "    price_ts = list(price)\n",
    "\n",
    "    value_in_position = account_status[market.name][\"net_value\"]\n",
    "    value_in_account = account_status[\"tokens\"][\"USDC\"] + account_status[\"tokens\"][\"ETH\"] * price\n",
    "\n",
    "    value_ax.plot(time_ts, net_value_ts, 'g-', label=\"net value\")\n",
    "    value_ax.plot(time_ts, value_in_position, 'r-', label=\"value in get_position\")\n",
    "    value_ax.plot(time_ts, value_in_account, 'b-', label=\"value in broker account\")\n",
    "    price_ax.plot(time_ts, price_ts, 'y-', label=\"price\")\n",
    "    fig.legend()\n",
    "    fig.show()"
   ],
   "outputs": [],
   "execution_count": 49
  },
  {
   "cell_type": "markdown",
   "metadata": {
    "collapsed": false,
    "jupyter": {
     "outputs_hidden": false
    }
   },
   "source": [
    "Add dependence about run Actuator"
   ]
  },
  {
   "cell_type": "code",
   "metadata": {
    "collapsed": false,
    "jupyter": {
     "outputs_hidden": false
    },
    "ExecuteTime": {
     "end_time": "2024-07-22T08:21:14.123976Z",
     "start_time": "2024-07-22T08:21:14.119628Z"
    }
   },
   "source": [
    "from datetime import date\n",
    "import pandas as pd\n",
    "from demeter import Actuator, MarketInfo, TokenInfo, Strategy, ChainType\n",
    "from demeter.uniswap import UniV3Pool, UniLpMarket"
   ],
   "outputs": [],
   "execution_count": 50
  },
  {
   "cell_type": "markdown",
   "metadata": {
    "collapsed": false,
    "jupyter": {
     "outputs_hidden": false
    }
   },
   "source": [
    "Set pandas output format"
   ]
  },
  {
   "cell_type": "code",
   "metadata": {
    "collapsed": false,
    "jupyter": {
     "outputs_hidden": false
    },
    "ExecuteTime": {
     "end_time": "2024-07-22T08:21:14.132821Z",
     "start_time": "2024-07-22T08:21:14.128985Z"
    }
   },
   "source": [
    "pd.options.display.max_columns = None\n",
    "pd.set_option(\"display.width\", 5000)"
   ],
   "outputs": [],
   "execution_count": 51
  },
  {
   "cell_type": "markdown",
   "metadata": {
    "collapsed": false,
    "jupyter": {
     "outputs_hidden": false
    }
   },
   "source": [
    "Custom Constant Interval strategy with code to add liquidity at constant interval around current price."
   ]
  },
  {
   "cell_type": "code",
   "metadata": {
    "collapsed": false,
    "jupyter": {
     "outputs_hidden": false
    },
    "ExecuteTime": {
     "end_time": "2024-07-22T08:21:14.182705Z",
     "start_time": "2024-07-22T08:21:14.176836Z"
    }
   },
   "source": [
    "class ConstantIntervalStrategy(Strategy):\n",
    "    def __init__(self, a=100):\n",
    "        super().__init__()\n",
    "        self.a = a\n",
    "\n",
    "    def initialize(self):\n",
    "        market: UniLpMarket = self.markets[market_key]\n",
    "        init_price = market.market_status.data.price\n",
    "        market.even_rebalance(init_price)  # rebalance all reserve token#\n",
    "        # new_position(self, baseToken, quoteToken, usd_price_a, usd_price_b):\n",
    "        # what is  base/quote \"https://corporatefinanceinstitute.com/resources/knowledge/economics/currency-pair/\"\n",
    "        market.add_liquidity(init_price - self.a, init_price + self.a)\n",
    "        super().__init__()"
   ],
   "outputs": [],
   "execution_count": 52
  },
  {
   "cell_type": "markdown",
   "metadata": {
    "collapsed": false,
    "jupyter": {
     "outputs_hidden": false
    }
   },
   "source": [
    "Main logic to run Actuator, init two token and market with key \"market1\""
   ]
  },
  {
   "cell_type": "code",
   "metadata": {
    "collapsed": false,
    "jupyter": {
     "outputs_hidden": false
    },
    "ExecuteTime": {
     "end_time": "2024-07-22T08:21:14.501407Z",
     "start_time": "2024-07-22T08:21:14.191740Z"
    }
   },
   "source": [
    "usdc = TokenInfo(name=\"usdc\", decimal=6)  # declare  token0\n",
    "eth = TokenInfo(name=\"eth\", decimal=18)  # declare token1\n",
    "pool = UniV3Pool(usdc, eth, 0.05, usdc)  # declare pool\n",
    "market_key = MarketInfo(\"market1\")\n",
    "\n",
    "actuator = Actuator()  # declare actuator\n",
    "broker = actuator.broker\n",
    "market = UniLpMarket(market_key, pool)\n",
    "\n",
    "broker.add_market(market)\n",
    "broker.set_balance(usdc, 2000)\n",
    "broker.set_balance(eth, 0)\n",
    "\n",
    "actuator.strategy = ConstantIntervalStrategy(200)\n",
    "\n",
    "market.data_path = \"../data\"\n",
    "market.load_data(ChainType.polygon.name, \"0x45dda9cb7c25131df268515131f647d726f50608\", date(2023, 8, 13),\n",
    "                 date(2023, 8, 17))\n",
    "actuator.set_price(market.get_price_from_data())\n",
    "# actuator.run()  # run test"
   ],
   "outputs": [
    {
     "name": "stderr",
     "output_type": "stream",
     "text": [
      "2024-07-22 16:21:14,195 - INFO - start load files from 2023-08-13 to 2023-08-17...\n",
      "2024-07-22 16:21:14,252 - INFO - load file complete, preparing...\n",
      "2024-07-22 16:21:14,477 - INFO - data has been prepared\n"
     ]
    }
   ],
   "execution_count": 53
  },
  {
   "cell_type": "markdown",
   "metadata": {
    "collapsed": false,
    "jupyter": {
     "outputs_hidden": false
    }
   },
   "source": [
    "Run actuator with evaluators and save result to files"
   ]
  },
  {
   "cell_type": "code",
   "metadata": {
    "collapsed": false,
    "jupyter": {
     "outputs_hidden": false
    },
    "ExecuteTime": {
     "end_time": "2024-07-22T08:21:17.372821Z",
     "start_time": "2024-07-22T08:21:14.503418Z"
    }
   },
   "source": [
    "actuator.run()\n",
    "print({k: round(v, 5) for k, v in performance_metrics(\n",
    "    actuator.account_status_df[\"net_value\"], benchmark=actuator.account_status_df[\"price\"][\"ETH\"]\n",
    ").items()})\n",
    "\n",
    "actuator.save_result(\n",
    "    path=\"./result\",  # save path\n",
    "    account=True,  # save account status list as a csv file\n",
    "    actions=True,  # save actions as a json file and a pickle file\n",
    ")"
   ],
   "outputs": [
    {
     "name": "stderr",
     "output_type": "stream",
     "text": [
      "2024-07-22 16:21:14,507 - INFO - init strategy...\n",
      "2024-07-22 16:21:14,510 - INFO - start main loop...\n",
      "100%|███████████████████████████████████████████████████████████████████████████████████████████████████████████| 7200/7200 [00:02<00:00, 3011.37it/s]\n",
      "2024-07-22 16:21:16,906 - INFO - main loop finished\n",
      "2024-07-22 16:21:17,056 - INFO - Print actuator summary\n",
      "2024-07-22 16:21:17,260 - INFO - Backtesting finished, execute time 2.754091262817383s\n"
     ]
    },
    {
     "name": "stdout",
     "output_type": "stream",
     "text": [
      "\u001B[7;31mFinal account status                              \u001B[0m\n",
      "\u001B[7;35mToken balance in broker       \u001B[0m\n",
      "\u001B[34mUSDC      \u001B[0m:0                        \u001B[34mETH       \u001B[0m:0.053866916              \n",
      "\u001B[7;35mPosition value in markets     \u001B[0m\n",
      "\u001B[4;33mmarket1(UniLpMarket)\u001B[0m\n",
      "\u001B[34mtoken0    \u001B[0m:USDC                     \u001B[34mtoken1    \u001B[0m:ETH                      \u001B[34mfee(%)    \u001B[0m:0.0500                   \u001B[34mquote token\u001B[0m:USDC                     \n",
      "\u001B[34mpositions \u001B[0m\n",
      "   lower_tick  upper_tick   pending0      pending1        liquidity\n",
      "0      200073      202246  3.0201204  0.0019881852  417968653597863\n",
      "\n",
      "\u001B[7;31mAccount balance history                           \u001B[0m\n",
      "l1                  net_value tokens               market1                                                                                          price     \n",
      "l2                              USDC         ETH net_value base_uncollected quote_uncollected base_in_position quote_in_position position_count       ETH USDC\n",
      "2023-08-13 00:00:00    1999.5      0 0.053866915 1899.9473    9.3205287e-08                 0       0.48708698         999.74982              1 1848.1244    1\n",
      "2023-08-13 00:01:00    1999.5      0 0.053866915 1899.9473    9.3205287e-08                 0       0.48708698         999.74982              1 1848.1244    1\n",
      "2023-08-13 00:02:00    1999.5      0 0.053866915 1899.9473    9.3232465e-08                 0       0.48708698         999.74982              1 1848.1244    1\n",
      "2023-08-13 00:03:00    1999.5      0 0.053866915 1899.9473    9.9942405e-08                 0       0.48708698         999.74982              1 1848.1244    1\n",
      "2023-08-13 00:04:00 1999.5001      0 0.053866915 1899.9473    1.1335268e-07                 0       0.48708698         999.74982              1 1848.1244    1\n",
      "...                       ...    ...         ...       ...              ...               ...              ...               ...            ...       ...  ...\n",
      "2023-08-17 23:55:00 1878.9724      0 0.053866915 1788.3145      0.001986179          3.015105       0.95289165         178.24313              1 1682.9967    1\n",
      "2023-08-17 23:56:00 1879.3124      0 0.053866915 1788.6365      0.001986179         3.0157874       0.95187294         179.95782              1 1683.3334    1\n",
      "2023-08-17 23:57:00 1879.3158      0 0.053866915 1788.6399     0.0019881853          3.015801       0.95187294         179.95782              1 1683.3334    1\n",
      "2023-08-17 23:58:00 1879.6593      0 0.053866915 1788.9651     0.0019881853         3.0201204        0.9508543         181.67268              1   1683.67    1\n",
      "2023-08-17 23:59:00 1879.6593      0 0.053866915 1788.9651     0.0019881853         3.0201204        0.9508543         181.67268              1   1683.67    1\n",
      "\n",
      "[7200 rows x 11 columns]\n"
     ]
    },
    {
     "name": "stderr",
     "output_type": "stream",
     "text": [
      "2024-07-22 16:21:17,364 - INFO - files have saved to ./result\\backtest-20240722-162117.account.csv,./result\\backtest-20240722-162117.action.json,./result\\backtest-20240722-162117.action.pkl\n"
     ]
    },
    {
     "name": "stdout",
     "output_type": "stream",
     "text": [
      "{Return: Decimal('-119.84080'), Rate of Return: Decimal('-0.05994'), Annualized Return: Decimal('-0.98902'), Max Draw Down: Decimal('0.11184'), Sharpe Ratio: Decimal('-10.81064'), Volatility: Decimal('228.00872'), alpha: Decimal('0.00000'), beta: Decimal('0.90025')}\n"
     ]
    },
    {
     "data": {
      "text/plain": [
       "['./result\\\\backtest-20240722-162117.account.csv',\n",
       " './result\\\\backtest-20240722-162117.action.json',\n",
       " './result\\\\backtest-20240722-162117.action.pkl']"
      ]
     },
     "execution_count": 54,
     "metadata": {},
     "output_type": "execute_result"
    }
   ],
   "execution_count": 54
  },
  {
   "cell_type": "code",
   "metadata": {
    "collapsed": false,
    "jupyter": {
     "outputs_hidden": false
    },
    "ExecuteTime": {
     "end_time": "2024-07-22T08:21:17.844693Z",
     "start_time": "2024-07-22T08:21:17.380860Z"
    }
   },
   "source": "plot_position_return_decomposition(actuator.account_status_df, actuator.token_prices[eth.name], market_key)",
   "outputs": [
    {
     "name": "stderr",
     "output_type": "stream",
     "text": [
      "C:\\Users\\sun\\AppData\\Local\\Temp\\ipykernel_13440\\3991704275.py:24: UserWarning: FigureCanvasAgg is non-interactive, and thus cannot be shown\n",
      "  fig.show()\n"
     ]
    },
    {
     "data": {
      "text/plain": [
       "<Figure size 640x480 with 2 Axes>"
      ],
      "image/png": "[encoded data removed]"
     },
     "metadata": {},
     "output_type": "display_data"
    }
   ],
   "execution_count": 55
  }
 ],
 "metadata": {
  "kernelspec": {
   "display_name": "Python 3 (ipykernel)",
   "language": "python",
   "name": "python3"
  },
  "language_info": {
   "codemirror_mode": {
    "name": "ipython",
    "version": 3
   },
   "file_extension": ".py",
   "mimetype": "text/x-python",
   "name": "python",
   "nbconvert_exporter": "python",
   "pygments_lexer": "ipython3",
   "version": "3.10.1"
  }
 },
 "nbformat": 4,
 "nbformat_minor": 4
}
