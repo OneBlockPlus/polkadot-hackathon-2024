{
 "cells": [
  {
   "cell_type": "markdown",
   "source": [
    "# Two Intervals Around the Current Price\n",
    "This strategy aims to fix the problem of having leftover liquidity. The first interval is the same as in the interval around the current price strategy 4.4, namely [pc − a, pc + a]. Let b be a paramter and b ∈ [10, 1000], then the second interval will either be [pc, pc +b] or [pc −b, pc], depending on which asset is leftover [4]. This will allow us to use up all our liquidity."
   ],
   "metadata": {
    "collapsed": false
   }
  },
  {
   "cell_type": "markdown",
   "source": [
    "Import code dependencies"
   ],
   "metadata": {
    "collapsed": false
   }
  },
  {
   "cell_type": "code",
   "source": [
    "from typing import List\n",
    "\n",
    "import matplotlib.dates as mdates\n",
    "import pandas as pd\n",
    "from matplotlib.pylab import plt\n",
    "\n",
    "from demeter import MarketInfo\n",
    "from demeter.broker import AccountStatus\n",
    "from demeter.result import performance_metrics"
   ],
   "metadata": {
    "collapsed": false,
    "ExecuteTime": {
     "end_time": "2024-07-22T08:22:50.412023Z",
     "start_time": "2024-07-22T08:22:50.407620Z"
    }
   },
   "outputs": [],
   "execution_count": 19
  },
  {
   "cell_type": "markdown",
   "source": [
    "Set matplotlib to show formatted account status"
   ],
   "metadata": {
    "collapsed": false
   }
  },
  {
   "cell_type": "code",
   "source": [
    "def plotter(account_status_list: List[AccountStatus]):\n",
    "    net_value_ts = [status.net_value for status in account_status_list]\n",
    "    time_ts = [status.timestamp for status in account_status_list]\n",
    "    plt.plot(time_ts, net_value_ts)\n",
    "    plt.show()"
   ],
   "metadata": {
    "collapsed": false,
    "ExecuteTime": {
     "end_time": "2024-07-22T08:22:50.457573Z",
     "start_time": "2024-07-22T08:22:50.452104Z"
    }
   },
   "outputs": [],
   "execution_count": 20
  },
  {
   "cell_type": "markdown",
   "source": [
    "Make plot about price and account value / position net value"
   ],
   "metadata": {
    "collapsed": false
   }
  },
  {
   "cell_type": "code",
   "source": [
    "def plot_position_return_decomposition(account_status: pd.DataFrame, price: pd.Series, market: MarketInfo):\n",
    "    fig, value_ax = plt.subplots()\n",
    "    day = mdates.DayLocator(interval=2)\n",
    "\n",
    "    price_ax = value_ax.twinx()\n",
    "    price_ax.xaxis.set_major_locator(day)\n",
    "    price_ax.xaxis.set_major_formatter(mdates.DateFormatter('%m-%d'))\n",
    "    value_ax.set_xlabel('time')\n",
    "    value_ax.set_ylabel('value', color='g')\n",
    "    price_ax.set_ylabel('price', color='b')\n",
    "\n",
    "    net_value_ts = list(account_status.net_value)\n",
    "    time_ts = list(account_status.index)\n",
    "    price_ts = list(price)\n",
    "\n",
    "    value_in_position = account_status[market.name][\"net_value\"]\n",
    "    value_in_account = account_status[\"tokens\"][\"USDC\"] + account_status[\"tokens\"][\"ETH\"] * price\n",
    "\n",
    "    value_ax.plot(time_ts, net_value_ts, 'g-', label=\"net value\")\n",
    "    value_ax.plot(time_ts, value_in_position, 'r-', label=\"value in get_position\")\n",
    "    value_ax.plot(time_ts, value_in_account, 'b-', label=\"value in broker account\")\n",
    "    price_ax.plot(time_ts, price_ts, 'y-', label=\"price\")\n",
    "    fig.legend()\n",
    "    fig.show()"
   ],
   "metadata": {
    "collapsed": false,
    "ExecuteTime": {
     "end_time": "2024-07-22T08:22:50.465930Z",
     "start_time": "2024-07-22T08:22:50.459585Z"
    }
   },
   "outputs": [],
   "execution_count": 21
  },
  {
   "cell_type": "markdown",
   "source": [
    "Add dependence about run Actuator"
   ],
   "metadata": {
    "collapsed": false
   }
  },
  {
   "cell_type": "code",
   "source": [
    "from datetime import timedelta, date\n",
    "import pandas as pd\n",
    "\n",
    "from demeter import TokenInfo, Actuator, ChainType, MarketInfo, Strategy, PeriodTrigger, RowData\n",
    "from demeter.uniswap import UniV3Pool, UniLpMarket"
   ],
   "metadata": {
    "collapsed": false,
    "ExecuteTime": {
     "end_time": "2024-07-22T08:22:50.473996Z",
     "start_time": "2024-07-22T08:22:50.469947Z"
    }
   },
   "outputs": [],
   "execution_count": 22
  },
  {
   "cell_type": "markdown",
   "source": [
    "Set pandas output format"
   ],
   "metadata": {
    "collapsed": false
   }
  },
  {
   "cell_type": "code",
   "source": [
    "pd.options.display.max_columns = None\n",
    "pd.set_option(\"display.width\", 5000)"
   ],
   "metadata": {
    "collapsed": false,
    "ExecuteTime": {
     "end_time": "2024-07-22T08:22:50.479102Z",
     "start_time": "2024-07-22T08:22:50.476026Z"
    }
   },
   "outputs": [],
   "execution_count": 23
  },
  {
   "cell_type": "markdown",
   "source": [
    "Custom Two Intervals Around the Current Price strategy with code to add liquidity at constant interval around current price."
   ],
   "metadata": {
    "collapsed": false
   }
  },
  {
   "cell_type": "code",
   "source": [
    "class TwoIntervalsAroundtheCurrentPriceStrategy(Strategy):\n",
    "    def __init__(self, a=10, b=1, update_interval=timedelta(days=1)):\n",
    "        super().__init__()\n",
    "        self.a = a\n",
    "        self.b = b\n",
    "\n",
    "    def initialize(self):\n",
    "        lp_market: UniLpMarket = self.broker.markets[market_key]\n",
    "        init_price = lp_market.market_status.data.price\n",
    "\n",
    "        lp_market.add_liquidity(init_price - self.a, init_price + self.a)\n",
    "        if self.broker.assets[market.base_token].balance > 0:\n",
    "            lp_market.add_liquidity(init_price - self.b, init_price)\n",
    "        else:\n",
    "            lp_market.add_liquidity(init_price, init_price + self.b)\n",
    "        self.triggers.append(PeriodTrigger(time_delta=timedelta(days=1), do=self.work))\n",
    "\n",
    "    def work(self, row_data: RowData):\n",
    "        lp_market: UniLpMarket = self.broker.markets[market_key]\n",
    "\n",
    "        if len(lp_market.positions) > 0:\n",
    "            lp_market.remove_all_liquidity()\n",
    "            lp_market.even_rebalance(row_data.prices[eth.name])\n",
    "\n",
    "        if self.broker.assets[market.base_token].balance > 0:\n",
    "            lp_market.add_liquidity(row_data.prices[eth.name] - self.b, row_data.prices[eth.name])\n",
    "        else:\n",
    "            lp_market.add_liquidity(row_data.prices[eth.name], row_data.prices[eth.name] + row_data.prices[eth.name] + self.b)\n"
   ],
   "metadata": {
    "collapsed": false,
    "ExecuteTime": {
     "end_time": "2024-07-22T08:22:50.486861Z",
     "start_time": "2024-07-22T08:22:50.480118Z"
    }
   },
   "outputs": [],
   "execution_count": 24
  },
  {
   "cell_type": "markdown",
   "source": [
    "Main logic to run Actuator, init two token and market with key \"market1\""
   ],
   "metadata": {
    "collapsed": false
   }
  },
  {
   "cell_type": "code",
   "source": [
    "usdc = TokenInfo(name=\"usdc\", decimal=6)  # declare  token0\n",
    "eth = TokenInfo(name=\"eth\", decimal=18)  # declare token1\n",
    "pool = UniV3Pool(usdc, eth, 0.05, usdc)  # declare pool\n",
    "market_key = MarketInfo(\"market1\")\n",
    "\n",
    "actuator = Actuator()  # declare actuator\n",
    "broker = actuator.broker\n",
    "market = UniLpMarket(market_key, pool)\n",
    "\n",
    "broker.add_market(market)\n",
    "broker.set_balance(usdc, 2000)\n",
    "broker.set_balance(eth, 0)\n",
    "\n",
    "actuator.strategy = TwoIntervalsAroundtheCurrentPriceStrategy(400, 200)\n",
    "\n",
    "market.data_path = \"../data\"\n",
    "market.load_data(ChainType.polygon.name, \"0x45dda9cb7c25131df268515131f647d726f50608\", date(2023, 8, 13), date(2023, 8, 17))\n",
    "actuator.set_price(market.get_price_from_data())\n",
    "# actuator.run()  # run test"
   ],
   "metadata": {
    "collapsed": false,
    "ExecuteTime": {
     "end_time": "2024-07-22T08:22:50.751665Z",
     "start_time": "2024-07-22T08:22:50.507679Z"
    }
   },
   "outputs": [
    {
     "name": "stderr",
     "output_type": "stream",
     "text": [
      "2024-07-22 16:22:50,511 - INFO - start load files from 2023-08-13 to 2023-08-17...\n",
      "2024-07-22 16:22:50,556 - INFO - load file complete, preparing...\n",
      "2024-07-22 16:22:50,732 - INFO - data has been prepared\n"
     ]
    }
   ],
   "execution_count": 25
  },
  {
   "cell_type": "markdown",
   "source": [
    "Run actuator with evaluators and save result to files"
   ],
   "metadata": {
    "collapsed": false
   }
  },
  {
   "cell_type": "code",
   "source": [
    "actuator.run()\n",
    "print({k: round(v, 5) for k, v in performance_metrics(\n",
    "    actuator.account_status_df[\"net_value\"], benchmark=actuator.account_status_df[\"price\"][\"ETH\"]\n",
    ").items()})\n",
    "\n",
    "actuator.save_result(\n",
    "    path=\"./result\",  # save path\n",
    "    account=True,  # save account status list as a csv file\n",
    "    actions=True,  # save actions as a json file and a pickle file\n",
    ")"
   ],
   "metadata": {
    "collapsed": false,
    "ExecuteTime": {
     "end_time": "2024-07-22T08:22:53.389271Z",
     "start_time": "2024-07-22T08:22:50.752703Z"
    }
   },
   "outputs": [
    {
     "name": "stderr",
     "output_type": "stream",
     "text": [
      "2024-07-22 16:22:50,755 - INFO - init strategy...\n",
      "2024-07-22 16:22:50,758 - INFO - start main loop...\n",
      "100%|███████████████████████████████████████████████████████████████████████████████████████████████████████████| 7200/7200 [00:02<00:00, 3233.96it/s]\n",
      "2024-07-22 16:22:52,988 - INFO - main loop finished\n",
      "2024-07-22 16:22:53,126 - INFO - Print actuator summary\n",
      "2024-07-22 16:22:53,296 - INFO - Backtesting finished, execute time 2.5415878295898438s\n"
     ]
    },
    {
     "name": "stdout",
     "output_type": "stream",
     "text": [
      "\u001B[7;31mFinal account status                              \u001B[0m\n",
      "\u001B[7;35mToken balance in broker       \u001B[0m\n",
      "\u001B[34mUSDC      \u001B[0m:0                        \u001B[34mETH       \u001B[0m:0.54840990               \n",
      "\u001B[7;35mPosition value in markets     \u001B[0m\n",
      "\u001B[4;33mmarket1(UniLpMarket)\u001B[0m\n",
      "\u001B[34mtoken0    \u001B[0m:USDC                     \u001B[34mtoken1    \u001B[0m:ETH                      \u001B[34mfee(%)    \u001B[0m:0.0500                   \u001B[34mquote token\u001B[0m:USDC                     \n",
      "\u001B[34mpositions \u001B[0m\n",
      "   lower_tick  upper_tick   pending0      pending1        liquidity\n",
      "0      201328      202501  3.1892677  0.0020596758  409230879844395\n",
      "\n",
      "\u001B[7;31mAccount balance history                           \u001B[0m\n",
      "l1                  net_value tokens              market1                                                                                          price     \n",
      "l2                              USDC        ETH net_value base_uncollected quote_uncollected base_in_position quote_in_position position_count       ETH USDC\n",
      "2023-08-13 00:00:00      2000   2000          0         0                0                 0                0                 0              2 1848.1244    1\n",
      "2023-08-13 00:01:00      2000   2000          0         0                0                 0                0                 0              2 1848.1244    1\n",
      "2023-08-13 00:02:00      2000   2000          0         0                0                 0                0                 0              2 1848.1244    1\n",
      "2023-08-13 00:03:00      2000   2000          0         0                0                 0                0                 0              2 1848.1244    1\n",
      "2023-08-13 00:04:00      2000   2000          0         0                0                 0                0                 0              2 1848.1244    1\n",
      "...                       ...    ...        ...       ...              ...               ...              ...               ...            ...       ...  ...\n",
      "2023-08-17 23:55:00 1899.3042      0 0.54840988 976.33221     0.0020577116         3.1843572       0.34741339         384.98914              1 1682.9967    1\n",
      "2023-08-17 23:56:00 1899.6069      0 0.54840988 976.45032     0.0020577116         3.1850252       0.34641594         386.66797              1 1683.3334    1\n",
      "2023-08-17 23:57:00 1899.6104      0 0.54840988 976.45367     0.0020596758         3.1850386       0.34641594         386.66797              1 1683.3334    1\n",
      "2023-08-17 23:58:00 1899.9164      0 0.54840988 976.57501     0.0020596758         3.1892676       0.34541863         388.34698              1   1683.67    1\n",
      "2023-08-17 23:59:00 1899.9164      0 0.54840988 976.57501     0.0020596758         3.1892676       0.34541863         388.34698              1   1683.67    1\n",
      "\n",
      "[7200 rows x 11 columns]\n",
      "{Return: Decimal('-100.08366'), Rate of Return: Decimal('-0.05004'), Annualized Return: Decimal('-0.97643'), Max Draw Down: Decimal('0.10019'), Sharpe Ratio: Decimal('-9.79448'), Volatility: Decimal('198.17897'), alpha: Decimal('0.00000'), beta: Decimal('0.82082')}\n"
     ]
    },
    {
     "name": "stderr",
     "output_type": "stream",
     "text": [
      "2024-07-22 16:22:53,385 - INFO - files have saved to ./result\\backtest-20240722-162253.account.csv,./result\\backtest-20240722-162253.action.json,./result\\backtest-20240722-162253.action.pkl\n"
     ]
    },
    {
     "data": {
      "text/plain": [
       "['./result\\\\backtest-20240722-162253.account.csv',\n",
       " './result\\\\backtest-20240722-162253.action.json',\n",
       " './result\\\\backtest-20240722-162253.action.pkl']"
      ]
     },
     "execution_count": 26,
     "metadata": {},
     "output_type": "execute_result"
    }
   ],
   "execution_count": 26
  },
  {
   "cell_type": "markdown",
   "source": [
    "Make plot about output net value、value in position、value in account and price"
   ],
   "metadata": {
    "collapsed": false
   }
  },
  {
   "cell_type": "code",
   "source": "plot_position_return_decomposition(actuator.account_status_df, actuator.token_prices[eth.name], market_key)",
   "metadata": {
    "collapsed": false,
    "ExecuteTime": {
     "end_time": "2024-07-22T08:22:54.005230Z",
     "start_time": "2024-07-22T08:22:53.390305Z"
    }
   },
   "outputs": [
    {
     "name": "stderr",
     "output_type": "stream",
     "text": [
      "C:\\Users\\sun\\AppData\\Local\\Temp\\ipykernel_10096\\3991704275.py:24: UserWarning: FigureCanvasAgg is non-interactive, and thus cannot be shown\n",
      "  fig.show()\n"
     ]
    },
    {
     "data": {
      "text/plain": [
       "<Figure size 640x480 with 2 Axes>"
      ],
      "image/png": "[encoded data removed]"
     },
     "metadata": {},
     "output_type": "display_data"
    }
   ],
   "execution_count": 27
  }
 ],
 "metadata": {
  "kernelspec": {
   "display_name": "Python 3",
   "language": "python",
   "name": "python3"
  },
  "language_info": {
   "codemirror_mode": {
    "name": "ipython",
    "version": 2
   },
   "file_extension": ".py",
   "mimetype": "text/x-python",
   "name": "python",
   "nbconvert_exporter": "python",
   "pygments_lexer": "ipython2",
   "version": "2.7.6"
  }
 },
 "nbformat": 4,
 "nbformat_minor": 0
}
